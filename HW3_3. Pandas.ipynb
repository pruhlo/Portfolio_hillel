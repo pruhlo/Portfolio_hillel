{
 "cells": [
  {
   "cell_type": "markdown",
   "id": "e89da88c-e15a-4610-99f5-86a83882100d",
   "metadata": {},
   "source": [
    "# <center>Домашнє завдання № 1.<br> Аналіз даних доходів населення UCI Adult</center>"
   ]
  },
  {
   "cell_type": "markdown",
   "id": "cadfbc15-1025-4143-820c-1b696277d85a",
   "metadata": {},
   "source": [
    "**В завданні пропонується за допомогою Pandas дати відповідь на кілька запитань по даним репозиторія UCI [Adult](https://archive.ics.uci.edu/ml/datasets/Adult).**"
   ]
  },
  {
   "cell_type": "markdown",
   "id": "a26e1bb3-2409-4dbf-9265-eb31117c9057",
   "metadata": {},
   "source": [
    "Унікальні значення ознак:\n",
    "- age: continuous.\n",
    "- workclass: Private, Self-emp-not-inc, Self-emp-inc, Federal-gov, Local-gov, State-gov, Without-pay, Never-worked.\n",
    "- fnlwgt: continuous.\n",
    "- education: Bachelors, Some-college, 11th, HS-grad, Prof-school, Assoc-acdm, Assoc-voc, 9th, 7th-8th, 12th, Masters, 1st-4th, 10th, Doctorate, 5th-6th, Preschool.\n",
    "- education-num: continuous.\n",
    "- marital-status: Married-civ-spouse, Divorced, Never-married, Separated, Widowed, Married-spouse-absent, Married-AF-spouse.\n",
    "- occupation: Tech-support, Craft-repair, Other-service, Sales, Exec-managerial, Prof-specialty, Handlers-cleaners, Machine-op-inspct, Adm-clerical, Farming-fishing, Transport-moving, Priv-house-serv, Protective-serv, Armed-Forces.\n",
    "- relationship: Wife, Own-child, Husband, Not-in-family, Other-relative, Unmarried.\n",
    "- race: White, Asian-Pac-Islander, Amer-Indian-Eskimo, Other, Black.\n",
    "- sex: Female, Male.\n",
    "- capital-gain: continuous.\n",
    "- capital-loss: continuous.\n",
    "- hours-per-week: continuous.\n",
    "- native-country: United-States, Cambodia, England, Puerto-Rico, Canada, Germany, Outlying-US(Guam-USVI-etc), India, Japan, Greece, South, China, Cuba, Iran, Honduras, Philippines, Italy, Poland, Jamaica, Vietnam, Mexico, Portugal, Ireland, France, Dominican-Republic, Laos, Ecuador, Taiwan, Haiti, Columbia, Hungary, Guatemala, Nicaragua, Scotland, Thailand, Yugoslavia, El-Salvador, Trinadad&Tobago, Peru, Hong, Holand-Netherlands.   \n",
    "- salary: >50K,<=50K"
   ]
  },
  {
   "cell_type": "markdown",
   "id": "a626eca8-8607-4aa2-abb6-4678a89b5d74",
   "metadata": {},
   "source": [
    "# 1. Importing the required libraries for EDA"
   ]
  },
  {
   "cell_type": "code",
   "execution_count": 1,
   "id": "37b3d36e-284e-45cd-a473-ee9e5917dc14",
   "metadata": {},
   "outputs": [],
   "source": [
    "import pandas as pd\n",
    "import numpy as np\n",
    "import seaborn as sns                       #visualisation\n",
    "import matplotlib.pyplot as plt             #visualisation\n",
    "from IPython.display import display, HTML\n",
    "%matplotlib inline     \n",
    "sns.set(color_codes=True)"
   ]
  },
  {
   "cell_type": "markdown",
   "id": "c40d6396-740b-40aa-bb4f-3d8fd33d027c",
   "metadata": {},
   "source": [
    "# 2. Loading the data into the data frame."
   ]
  },
  {
   "cell_type": "code",
   "execution_count": 2,
   "id": "66c90bbd-d890-49ae-9e9c-26743f2eda28",
   "metadata": {},
   "outputs": [
    {
     "data": {
      "text/html": [
       "<div>\n",
       "<style scoped>\n",
       "    .dataframe tbody tr th:only-of-type {\n",
       "        vertical-align: middle;\n",
       "    }\n",
       "\n",
       "    .dataframe tbody tr th {\n",
       "        vertical-align: top;\n",
       "    }\n",
       "\n",
       "    .dataframe thead th {\n",
       "        text-align: right;\n",
       "    }\n",
       "</style>\n",
       "<table border=\"1\" class=\"dataframe\">\n",
       "  <thead>\n",
       "    <tr style=\"text-align: right;\">\n",
       "      <th></th>\n",
       "      <th>age</th>\n",
       "      <th>workclass</th>\n",
       "      <th>fnlwgt</th>\n",
       "      <th>education</th>\n",
       "      <th>education-num</th>\n",
       "      <th>marital-status</th>\n",
       "      <th>occupation</th>\n",
       "      <th>relationship</th>\n",
       "      <th>race</th>\n",
       "      <th>sex</th>\n",
       "      <th>capital-gain</th>\n",
       "      <th>capital-loss</th>\n",
       "      <th>hours-per-week</th>\n",
       "      <th>native-country</th>\n",
       "      <th>salary</th>\n",
       "    </tr>\n",
       "  </thead>\n",
       "  <tbody>\n",
       "    <tr>\n",
       "      <th>0</th>\n",
       "      <td>39</td>\n",
       "      <td>State-gov</td>\n",
       "      <td>77516</td>\n",
       "      <td>Bachelors</td>\n",
       "      <td>13</td>\n",
       "      <td>Never-married</td>\n",
       "      <td>Adm-clerical</td>\n",
       "      <td>Not-in-family</td>\n",
       "      <td>White</td>\n",
       "      <td>Male</td>\n",
       "      <td>2174</td>\n",
       "      <td>0</td>\n",
       "      <td>40</td>\n",
       "      <td>United-States</td>\n",
       "      <td>&lt;=50K</td>\n",
       "    </tr>\n",
       "    <tr>\n",
       "      <th>1</th>\n",
       "      <td>50</td>\n",
       "      <td>Self-emp-not-inc</td>\n",
       "      <td>83311</td>\n",
       "      <td>Bachelors</td>\n",
       "      <td>13</td>\n",
       "      <td>Married-civ-spouse</td>\n",
       "      <td>Exec-managerial</td>\n",
       "      <td>Husband</td>\n",
       "      <td>White</td>\n",
       "      <td>Male</td>\n",
       "      <td>0</td>\n",
       "      <td>0</td>\n",
       "      <td>13</td>\n",
       "      <td>United-States</td>\n",
       "      <td>&lt;=50K</td>\n",
       "    </tr>\n",
       "    <tr>\n",
       "      <th>2</th>\n",
       "      <td>38</td>\n",
       "      <td>Private</td>\n",
       "      <td>215646</td>\n",
       "      <td>HS-grad</td>\n",
       "      <td>9</td>\n",
       "      <td>Divorced</td>\n",
       "      <td>Handlers-cleaners</td>\n",
       "      <td>Not-in-family</td>\n",
       "      <td>White</td>\n",
       "      <td>Male</td>\n",
       "      <td>0</td>\n",
       "      <td>0</td>\n",
       "      <td>40</td>\n",
       "      <td>United-States</td>\n",
       "      <td>&lt;=50K</td>\n",
       "    </tr>\n",
       "    <tr>\n",
       "      <th>3</th>\n",
       "      <td>53</td>\n",
       "      <td>Private</td>\n",
       "      <td>234721</td>\n",
       "      <td>11th</td>\n",
       "      <td>7</td>\n",
       "      <td>Married-civ-spouse</td>\n",
       "      <td>Handlers-cleaners</td>\n",
       "      <td>Husband</td>\n",
       "      <td>Black</td>\n",
       "      <td>Male</td>\n",
       "      <td>0</td>\n",
       "      <td>0</td>\n",
       "      <td>40</td>\n",
       "      <td>United-States</td>\n",
       "      <td>&lt;=50K</td>\n",
       "    </tr>\n",
       "    <tr>\n",
       "      <th>4</th>\n",
       "      <td>28</td>\n",
       "      <td>Private</td>\n",
       "      <td>338409</td>\n",
       "      <td>Bachelors</td>\n",
       "      <td>13</td>\n",
       "      <td>Married-civ-spouse</td>\n",
       "      <td>Prof-specialty</td>\n",
       "      <td>Wife</td>\n",
       "      <td>Black</td>\n",
       "      <td>Female</td>\n",
       "      <td>0</td>\n",
       "      <td>0</td>\n",
       "      <td>40</td>\n",
       "      <td>Cuba</td>\n",
       "      <td>&lt;=50K</td>\n",
       "    </tr>\n",
       "  </tbody>\n",
       "</table>\n",
       "</div>"
      ],
      "text/plain": [
       "   age         workclass  fnlwgt  education  education-num  \\\n",
       "0   39         State-gov   77516  Bachelors             13   \n",
       "1   50  Self-emp-not-inc   83311  Bachelors             13   \n",
       "2   38           Private  215646    HS-grad              9   \n",
       "3   53           Private  234721       11th              7   \n",
       "4   28           Private  338409  Bachelors             13   \n",
       "\n",
       "       marital-status         occupation   relationship   race     sex  \\\n",
       "0       Never-married       Adm-clerical  Not-in-family  White    Male   \n",
       "1  Married-civ-spouse    Exec-managerial        Husband  White    Male   \n",
       "2            Divorced  Handlers-cleaners  Not-in-family  White    Male   \n",
       "3  Married-civ-spouse  Handlers-cleaners        Husband  Black    Male   \n",
       "4  Married-civ-spouse     Prof-specialty           Wife  Black  Female   \n",
       "\n",
       "   capital-gain  capital-loss  hours-per-week native-country salary  \n",
       "0          2174             0              40  United-States  <=50K  \n",
       "1             0             0              13  United-States  <=50K  \n",
       "2             0             0              40  United-States  <=50K  \n",
       "3             0             0              40  United-States  <=50K  \n",
       "4             0             0              40           Cuba  <=50K  "
      ]
     },
     "execution_count": 2,
     "metadata": {},
     "output_type": "execute_result"
    }
   ],
   "source": [
    "# load data\n",
    "df = pd.read_csv('adult.data.csv')\n",
    "# To display the top 5 rows \n",
    "df.head(5)"
   ]
  },
  {
   "cell_type": "code",
   "execution_count": 3,
   "id": "a232b170-50e3-4ae5-9b29-3780bea2e2e6",
   "metadata": {},
   "outputs": [
    {
     "data": {
      "text/html": [
       "<div>\n",
       "<style scoped>\n",
       "    .dataframe tbody tr th:only-of-type {\n",
       "        vertical-align: middle;\n",
       "    }\n",
       "\n",
       "    .dataframe tbody tr th {\n",
       "        vertical-align: top;\n",
       "    }\n",
       "\n",
       "    .dataframe thead th {\n",
       "        text-align: right;\n",
       "    }\n",
       "</style>\n",
       "<table border=\"1\" class=\"dataframe\">\n",
       "  <thead>\n",
       "    <tr style=\"text-align: right;\">\n",
       "      <th></th>\n",
       "      <th>age</th>\n",
       "      <th>workclass</th>\n",
       "      <th>fnlwgt</th>\n",
       "      <th>education</th>\n",
       "      <th>education-num</th>\n",
       "      <th>marital-status</th>\n",
       "      <th>occupation</th>\n",
       "      <th>relationship</th>\n",
       "      <th>race</th>\n",
       "      <th>sex</th>\n",
       "      <th>capital-gain</th>\n",
       "      <th>capital-loss</th>\n",
       "      <th>hours-per-week</th>\n",
       "      <th>native-country</th>\n",
       "      <th>salary</th>\n",
       "    </tr>\n",
       "  </thead>\n",
       "  <tbody>\n",
       "    <tr>\n",
       "      <th>32556</th>\n",
       "      <td>27</td>\n",
       "      <td>Private</td>\n",
       "      <td>257302</td>\n",
       "      <td>Assoc-acdm</td>\n",
       "      <td>12</td>\n",
       "      <td>Married-civ-spouse</td>\n",
       "      <td>Tech-support</td>\n",
       "      <td>Wife</td>\n",
       "      <td>White</td>\n",
       "      <td>Female</td>\n",
       "      <td>0</td>\n",
       "      <td>0</td>\n",
       "      <td>38</td>\n",
       "      <td>United-States</td>\n",
       "      <td>&lt;=50K</td>\n",
       "    </tr>\n",
       "    <tr>\n",
       "      <th>32557</th>\n",
       "      <td>40</td>\n",
       "      <td>Private</td>\n",
       "      <td>154374</td>\n",
       "      <td>HS-grad</td>\n",
       "      <td>9</td>\n",
       "      <td>Married-civ-spouse</td>\n",
       "      <td>Machine-op-inspct</td>\n",
       "      <td>Husband</td>\n",
       "      <td>White</td>\n",
       "      <td>Male</td>\n",
       "      <td>0</td>\n",
       "      <td>0</td>\n",
       "      <td>40</td>\n",
       "      <td>United-States</td>\n",
       "      <td>&gt;50K</td>\n",
       "    </tr>\n",
       "    <tr>\n",
       "      <th>32558</th>\n",
       "      <td>58</td>\n",
       "      <td>Private</td>\n",
       "      <td>151910</td>\n",
       "      <td>HS-grad</td>\n",
       "      <td>9</td>\n",
       "      <td>Widowed</td>\n",
       "      <td>Adm-clerical</td>\n",
       "      <td>Unmarried</td>\n",
       "      <td>White</td>\n",
       "      <td>Female</td>\n",
       "      <td>0</td>\n",
       "      <td>0</td>\n",
       "      <td>40</td>\n",
       "      <td>United-States</td>\n",
       "      <td>&lt;=50K</td>\n",
       "    </tr>\n",
       "    <tr>\n",
       "      <th>32559</th>\n",
       "      <td>22</td>\n",
       "      <td>Private</td>\n",
       "      <td>201490</td>\n",
       "      <td>HS-grad</td>\n",
       "      <td>9</td>\n",
       "      <td>Never-married</td>\n",
       "      <td>Adm-clerical</td>\n",
       "      <td>Own-child</td>\n",
       "      <td>White</td>\n",
       "      <td>Male</td>\n",
       "      <td>0</td>\n",
       "      <td>0</td>\n",
       "      <td>20</td>\n",
       "      <td>United-States</td>\n",
       "      <td>&lt;=50K</td>\n",
       "    </tr>\n",
       "    <tr>\n",
       "      <th>32560</th>\n",
       "      <td>52</td>\n",
       "      <td>Self-emp-inc</td>\n",
       "      <td>287927</td>\n",
       "      <td>HS-grad</td>\n",
       "      <td>9</td>\n",
       "      <td>Married-civ-spouse</td>\n",
       "      <td>Exec-managerial</td>\n",
       "      <td>Wife</td>\n",
       "      <td>White</td>\n",
       "      <td>Female</td>\n",
       "      <td>15024</td>\n",
       "      <td>0</td>\n",
       "      <td>40</td>\n",
       "      <td>United-States</td>\n",
       "      <td>&gt;50K</td>\n",
       "    </tr>\n",
       "  </tbody>\n",
       "</table>\n",
       "</div>"
      ],
      "text/plain": [
       "       age     workclass  fnlwgt   education  education-num  \\\n",
       "32556   27       Private  257302  Assoc-acdm             12   \n",
       "32557   40       Private  154374     HS-grad              9   \n",
       "32558   58       Private  151910     HS-grad              9   \n",
       "32559   22       Private  201490     HS-grad              9   \n",
       "32560   52  Self-emp-inc  287927     HS-grad              9   \n",
       "\n",
       "           marital-status         occupation relationship   race     sex  \\\n",
       "32556  Married-civ-spouse       Tech-support         Wife  White  Female   \n",
       "32557  Married-civ-spouse  Machine-op-inspct      Husband  White    Male   \n",
       "32558             Widowed       Adm-clerical    Unmarried  White  Female   \n",
       "32559       Never-married       Adm-clerical    Own-child  White    Male   \n",
       "32560  Married-civ-spouse    Exec-managerial         Wife  White  Female   \n",
       "\n",
       "       capital-gain  capital-loss  hours-per-week native-country salary  \n",
       "32556             0             0              38  United-States  <=50K  \n",
       "32557             0             0              40  United-States   >50K  \n",
       "32558             0             0              40  United-States  <=50K  \n",
       "32559             0             0              20  United-States  <=50K  \n",
       "32560         15024             0              40  United-States   >50K  "
      ]
     },
     "execution_count": 3,
     "metadata": {},
     "output_type": "execute_result"
    }
   ],
   "source": [
    "df.tail(5)                        # To display the botton 5 rows"
   ]
  },
  {
   "cell_type": "markdown",
   "id": "f04ae2d5-b12f-49df-8a14-ea3f679801d7",
   "metadata": {},
   "source": [
    "# 3. Checking the types of data"
   ]
  },
  {
   "cell_type": "code",
   "execution_count": 4,
   "id": "7f8d628f-723f-4e99-839c-7ad9a6c4f2d8",
   "metadata": {},
   "outputs": [
    {
     "data": {
      "text/html": [
       "<table border=\"1\" class=\"dataframe\">\n",
       "  <thead>\n",
       "    <tr style=\"text-align: right;\">\n",
       "      <th></th>\n",
       "      <th>types</th>\n",
       "    </tr>\n",
       "  </thead>\n",
       "  <tbody>\n",
       "    <tr>\n",
       "      <th>age</th>\n",
       "      <td>int64</td>\n",
       "    </tr>\n",
       "    <tr>\n",
       "      <th>workclass</th>\n",
       "      <td>object</td>\n",
       "    </tr>\n",
       "    <tr>\n",
       "      <th>fnlwgt</th>\n",
       "      <td>int64</td>\n",
       "    </tr>\n",
       "    <tr>\n",
       "      <th>education</th>\n",
       "      <td>object</td>\n",
       "    </tr>\n",
       "    <tr>\n",
       "      <th>education-num</th>\n",
       "      <td>int64</td>\n",
       "    </tr>\n",
       "    <tr>\n",
       "      <th>marital-status</th>\n",
       "      <td>object</td>\n",
       "    </tr>\n",
       "    <tr>\n",
       "      <th>occupation</th>\n",
       "      <td>object</td>\n",
       "    </tr>\n",
       "    <tr>\n",
       "      <th>relationship</th>\n",
       "      <td>object</td>\n",
       "    </tr>\n",
       "    <tr>\n",
       "      <th>race</th>\n",
       "      <td>object</td>\n",
       "    </tr>\n",
       "    <tr>\n",
       "      <th>sex</th>\n",
       "      <td>object</td>\n",
       "    </tr>\n",
       "    <tr>\n",
       "      <th>capital-gain</th>\n",
       "      <td>int64</td>\n",
       "    </tr>\n",
       "    <tr>\n",
       "      <th>capital-loss</th>\n",
       "      <td>int64</td>\n",
       "    </tr>\n",
       "    <tr>\n",
       "      <th>hours-per-week</th>\n",
       "      <td>int64</td>\n",
       "    </tr>\n",
       "    <tr>\n",
       "      <th>native-country</th>\n",
       "      <td>object</td>\n",
       "    </tr>\n",
       "    <tr>\n",
       "      <th>salary</th>\n",
       "      <td>object</td>\n",
       "    </tr>\n",
       "  </tbody>\n",
       "</table>"
      ],
      "text/plain": [
       "<IPython.core.display.HTML object>"
      ]
     },
     "metadata": {},
     "output_type": "display_data"
    }
   ],
   "source": [
    "display(\n",
    "    HTML(\n",
    "        df.dtypes.to_frame(name='types').to_html()\n",
    "        )\n",
    "    )"
   ]
  },
  {
   "cell_type": "markdown",
   "id": "ffd75517-92a0-4e07-b177-ea0146c55b61",
   "metadata": {},
   "source": [
    "# 4. Detecting missing values"
   ]
  },
  {
   "cell_type": "code",
   "execution_count": 5,
   "id": "388a3d3f-f19d-44c9-8d1d-7480779f82e1",
   "metadata": {},
   "outputs": [
    {
     "data": {
      "text/plain": [
       "<Axes: >"
      ]
     },
     "execution_count": 5,
     "metadata": {},
     "output_type": "execute_result"
    },
    {
     "data": {
      "image/png": "[encoded data removed]",
      "text/plain": [
       "<Figure size 2500x1000 with 3 Axes>"
      ]
     },
     "metadata": {},
     "output_type": "display_data"
    }
   ],
   "source": [
    "# Import missingno as msno\n",
    "import missingno as msno\n",
    "\n",
    "# Plot amount of missingness\n",
    "msno.bar(df)"
   ]
  },
  {
   "cell_type": "code",
   "execution_count": 6,
   "id": "309c1141-a76e-4e3e-ba53-5350aa21988e",
   "metadata": {},
   "outputs": [
    {
     "name": "stdout",
     "output_type": "stream",
     "text": [
      "<class 'pandas.core.frame.DataFrame'>\n",
      "RangeIndex: 32561 entries, 0 to 32560\n",
      "Data columns (total 15 columns):\n",
      " #   Column          Non-Null Count  Dtype \n",
      "---  ------          --------------  ----- \n",
      " 0   age             32561 non-null  int64 \n",
      " 1   workclass       32561 non-null  object\n",
      " 2   fnlwgt          32561 non-null  int64 \n",
      " 3   education       32561 non-null  object\n",
      " 4   education-num   32561 non-null  int64 \n",
      " 5   marital-status  32561 non-null  object\n",
      " 6   occupation      32561 non-null  object\n",
      " 7   relationship    32561 non-null  object\n",
      " 8   race            32561 non-null  object\n",
      " 9   sex             32561 non-null  object\n",
      " 10  capital-gain    32561 non-null  int64 \n",
      " 11  capital-loss    32561 non-null  int64 \n",
      " 12  hours-per-week  32561 non-null  int64 \n",
      " 13  native-country  32561 non-null  object\n",
      " 14  salary          32561 non-null  object\n",
      "dtypes: int64(6), object(9)\n",
      "memory usage: 3.7+ MB\n"
     ]
    }
   ],
   "source": [
    "df.info()"
   ]
  },
  {
   "cell_type": "markdown",
   "id": "70a04416-d804-4ebb-924f-8f093cc32d20",
   "metadata": {},
   "source": [
    "**1. Скільки чоловіків и жінок (ознака *sex*) представлено в цьому наборі даних?**"
   ]
  },
  {
   "cell_type": "code",
   "execution_count": 7,
   "id": "56e07767-b3a3-408d-a225-20cfeda97a53",
   "metadata": {},
   "outputs": [
    {
     "data": {
      "text/plain": [
       "['Male', 'Female']"
      ]
     },
     "execution_count": 7,
     "metadata": {},
     "output_type": "execute_result"
    }
   ],
   "source": [
    "# Extract unique values from the 'sex' column in the DataFrame and convert them to a list\n",
    "sex_labels = df.sex.unique().tolist()\n",
    "sex_labels"
   ]
  },
  {
   "cell_type": "code",
   "execution_count": 8,
   "id": "79b8ef76-5e16-420a-8dc6-59d49bc5b783",
   "metadata": {},
   "outputs": [
    {
     "data": {
      "image/png": "[encoded data removed]",
      "text/plain": [
       "<Figure size 640x480 with 1 Axes>"
      ]
     },
     "metadata": {},
     "output_type": "display_data"
    }
   ],
   "source": [
    "# Count occurrences of each category in the 'sex' column and convert counts to a list\n",
    "counts = df['sex'].value_counts().tolist()\n",
    "\n",
    "# Building the histogram\n",
    "plt.bar(sex_labels, counts, color=['blue', 'pink'])\n",
    "plt.xlabel('Gender')\n",
    "plt.ylabel('Count')\n",
    "plt.title('Distribution by Gender')\n",
    "\n",
    "# Adding data labels\n",
    "for i in range(len(counts)):\n",
    "    plt.text(sex_labels[i], counts[i] + 0.1, str(counts[i]), ha='center')\n",
    "    \n",
    "plt.show()"
   ]
  },
  {
   "cell_type": "markdown",
   "id": "c948a6bb-f6a9-4981-aa6e-b04cf1829942",
   "metadata": {},
   "source": [
    "**2. Який середній вік (ознака *age*) жінок?**"
   ]
  },
  {
   "cell_type": "code",
   "execution_count": 9,
   "id": "e33c5a66-1f9e-4bfe-b595-b58678650f78",
   "metadata": {},
   "outputs": [
    {
     "name": "stdout",
     "output_type": "stream",
     "text": [
      "Average age of women: 36.85823043357163\n"
     ]
    }
   ],
   "source": [
    "# Filter DataFrame for rows where 'sex' is 'Female' and calculate the average age\n",
    "female_data = df[df['sex'] == 'Female']\n",
    "average_age_female = female_data['age'].mean()\n",
    "\n",
    "print(\"Average age of women:\", average_age_female)"
   ]
  },
  {
   "cell_type": "markdown",
   "id": "c5225502-fdc0-4edf-8649-03c8bf6a1048",
   "metadata": {},
   "source": [
    "**3. Яка доля громадян Німеччини (ознака *native-country*)?**"
   ]
  },
  {
   "cell_type": "code",
   "execution_count": 10,
   "id": "65b34e4a-6767-4a3d-9bdd-135c685d4ecc",
   "metadata": {},
   "outputs": [
    {
     "data": {
      "text/plain": [
       "array(['United-States', 'Cuba', 'Jamaica', 'India', '?', 'Mexico',\n",
       "       'South', 'Puerto-Rico', 'Honduras', 'England', 'Canada', 'Germany',\n",
       "       'Iran', 'Philippines', 'Italy', 'Poland', 'Columbia', 'Cambodia',\n",
       "       'Thailand', 'Ecuador', 'Laos', 'Taiwan', 'Haiti', 'Portugal',\n",
       "       'Dominican-Republic', 'El-Salvador', 'France', 'Guatemala',\n",
       "       'China', 'Japan', 'Yugoslavia', 'Peru',\n",
       "       'Outlying-US(Guam-USVI-etc)', 'Scotland', 'Trinadad&Tobago',\n",
       "       'Greece', 'Nicaragua', 'Vietnam', 'Hong', 'Ireland', 'Hungary',\n",
       "       'Holand-Netherlands'], dtype=object)"
      ]
     },
     "execution_count": 10,
     "metadata": {},
     "output_type": "execute_result"
    }
   ],
   "source": [
    "\"\"\"\n",
    "I am concerned about the presence of data with question marks (?), which may also include Germans, \n",
    "as this could affect the accuracy of further calculations.\n",
    "\"\"\"\n",
    "df['native-country'].unique()"
   ]
  },
  {
   "cell_type": "code",
   "execution_count": 11,
   "id": "363d9c9a-5036-4712-84b7-3ec2f42e2973",
   "metadata": {},
   "outputs": [
    {
     "data": {
      "text/plain": [
       "583"
      ]
     },
     "execution_count": 11,
     "metadata": {},
     "output_type": "execute_result"
    }
   ],
   "source": [
    "df[df['native-country'] == '?'].shape[0]"
   ]
  },
  {
   "cell_type": "code",
   "execution_count": 12,
   "id": "cc50f39f-3f6c-4a83-98ad-4c45773e3327",
   "metadata": {},
   "outputs": [
    {
     "data": {
      "text/plain": [
       "0.42074874850281013"
      ]
     },
     "execution_count": 12,
     "metadata": {},
     "output_type": "execute_result"
    }
   ],
   "source": [
    "# Calculate the percentage of individuals in the DataFrame who are from Germany\n",
    "total_count = df.shape[0]  # Total number of records in the DataFrame\n",
    "germany_count = df[df['native-country'] == 'Germany'].shape[0]  # Count of records where 'native-country' is 'Germany'\n",
    "germany_ratio = (germany_count / total_count) * 100  # Calculate the percentage of individuals from Germany\n",
    "germany_ratio  # Display the Germany ratio as a percentage"
   ]
  },
  {
   "cell_type": "code",
   "execution_count": 13,
   "id": "0956d7d1-edd0-499f-875b-f0ecc22aaf49",
   "metadata": {},
   "outputs": [
    {
     "name": "stderr",
     "output_type": "stream",
     "text": [
      "C:\\Users\\Admin\\AppData\\Local\\Temp\\ipykernel_624\\3158892227.py:6: FutureWarning: \n",
      "\n",
      "Passing `palette` without assigning `hue` is deprecated and will be removed in v0.14.0. Assign the `x` variable to `hue` and set `legend=False` for the same effect.\n",
      "\n",
      "  bars = sns.barplot(x=country_counts.index, y=country_counts.values, palette='viridis')\n"
     ]
    },
    {
     "data": {
      "image/png": "[encoded data removed]",
      "text/plain": [
       "<Figure size 1200x800 with 1 Axes>"
      ]
     },
     "metadata": {},
     "output_type": "display_data"
    }
   ],
   "source": [
    "# Calculate counts of records for each country\n",
    "country_counts = df['native-country'].value_counts()\n",
    "\n",
    "# Plotting\n",
    "plt.figure(figsize=(12, 8))\n",
    "bars = sns.barplot(x=country_counts.index, y=country_counts.values, palette='viridis')\n",
    "\n",
    "# Highlight Germany in red and display percentage on top of its bar\n",
    "for bar, country in zip(bars.patches, country_counts.index):\n",
    "    if country == 'Germany':\n",
    "        bar.set_color('r')\n",
    "        bar.set_edgecolor('black')\n",
    "        bar.set_linewidth(2)\n",
    "        height = bar.get_height()\n",
    "        plt.text(bar.get_x() + bar.get_width() / 2., height, f'{germany_ratio:.2f}%', ha='center', va='bottom')\n",
    "\n",
    "# Plot settings\n",
    "plt.title('Number of Records for Each Country')\n",
    "plt.xlabel('Country')\n",
    "plt.ylabel('Count')\n",
    "plt.xticks(rotation=90)\n",
    "plt.show()"
   ]
  },
  {
   "cell_type": "markdown",
   "id": "afa4f8ab-06ba-4ade-a984-7aa5582b2f4f",
   "metadata": {},
   "source": [
    "# **4-5. Які средні значення та средньоквадратичні відхилення віку тих, хто отримує більше 50K на рік (ознака *salary*) і тих, хто отримує менше 50K на рік?**"
   ]
  },
  {
   "cell_type": "code",
   "execution_count": 14,
   "id": "c3841a3d-fe5f-44a3-bf01-1ade47c128eb",
   "metadata": {},
   "outputs": [
    {
     "data": {
      "text/html": [
       "<div>\n",
       "<style scoped>\n",
       "    .dataframe tbody tr th:only-of-type {\n",
       "        vertical-align: middle;\n",
       "    }\n",
       "\n",
       "    .dataframe tbody tr th {\n",
       "        vertical-align: top;\n",
       "    }\n",
       "\n",
       "    .dataframe thead th {\n",
       "        text-align: right;\n",
       "    }\n",
       "</style>\n",
       "<table border=\"1\" class=\"dataframe\">\n",
       "  <thead>\n",
       "    <tr style=\"text-align: right;\">\n",
       "      <th></th>\n",
       "      <th>salary</th>\n",
       "      <th>mean_age</th>\n",
       "      <th>std_age</th>\n",
       "    </tr>\n",
       "  </thead>\n",
       "  <tbody>\n",
       "    <tr>\n",
       "      <th>0</th>\n",
       "      <td>&lt;=50K</td>\n",
       "      <td>36.783738</td>\n",
       "      <td>14.020088</td>\n",
       "    </tr>\n",
       "    <tr>\n",
       "      <th>1</th>\n",
       "      <td>&gt;50K</td>\n",
       "      <td>44.249841</td>\n",
       "      <td>10.519028</td>\n",
       "    </tr>\n",
       "  </tbody>\n",
       "</table>\n",
       "</div>"
      ],
      "text/plain": [
       "  salary   mean_age    std_age\n",
       "0  <=50K  36.783738  14.020088\n",
       "1   >50K  44.249841  10.519028"
      ]
     },
     "execution_count": 14,
     "metadata": {},
     "output_type": "execute_result"
    }
   ],
   "source": [
    "# Calculate summary statistics (mean and standard deviation of age) grouped by salary level\n",
    "summary_stats = df.groupby('salary')['age'].agg(['mean', 'std']).reset_index()\n",
    "\n",
    "# Rename columns for clarity\n",
    "summary_stats.columns = ['salary', 'mean_age', 'std_age']\n",
    "\n",
    "summary_stats"
   ]
  },
  {
   "cell_type": "markdown",
   "id": "30aa4c1a-a1a6-4dba-9251-c07cd7c862e2",
   "metadata": {},
   "source": [
    "# 6. Чи правда, що люди, які отримують більше 50k, мають як мінімум вищу освіту? (ознака education – Bachelors, Prof-school, Assoc-acdm, Assoc-voc, Masters или Doctorate)"
   ]
  },
  {
   "cell_type": "code",
   "execution_count": 15,
   "id": "00ad3d77-1d44-46cf-a77e-86f49e96ef23",
   "metadata": {},
   "outputs": [
    {
     "name": "stdout",
     "output_type": "stream",
     "text": [
      "All individuals with salary >50K have higher education: False\n"
     ]
    },
    {
     "name": "stderr",
     "output_type": "stream",
     "text": [
      "C:\\Users\\Admin\\AppData\\Local\\Temp\\ipykernel_624\\807777809.py:8: SettingWithCopyWarning: \n",
      "A value is trying to be set on a copy of a slice from a DataFrame.\n",
      "Try using .loc[row_indexer,col_indexer] = value instead\n",
      "\n",
      "See the caveats in the documentation: https://pandas.pydata.org/pandas-docs/stable/user_guide/indexing.html#returning-a-view-versus-a-copy\n",
      "  high_salary['has_higher_education'] = high_salary['education'].isin(higher_education)\n"
     ]
    },
    {
     "data": {
      "image/png": "[encoded data removed]",
      "text/plain": [
       "<Figure size 640x480 with 1 Axes>"
      ]
     },
     "metadata": {},
     "output_type": "display_data"
    }
   ],
   "source": [
    "# Filter DataFrame to include only records where salary is greater than 50K\n",
    "high_salary = df[df['salary'] == '>50K']\n",
    "\n",
    "# List of education levels considered as higher education\n",
    "higher_education = ['Bachelors', 'Prof-school', 'Assoc-acdm', 'Assoc-voc', 'Masters', 'Doctorate']\n",
    "\n",
    "# Add a new column to check if education level is in the higher education list\n",
    "high_salary['has_higher_education'] = high_salary['education'].isin(higher_education)\n",
    "\n",
    "# Check if all individuals with high salary have at least higher education\n",
    "all_higher_education = high_salary['has_higher_education'].all()\n",
    "\n",
    "# Print the result\n",
    "print(f\"All individuals with salary >50K have higher education: {all_higher_education}\")\n",
    "\n",
    "# Visualization: Bar plot for clarity\n",
    "sns.countplot(data=high_salary, x='has_higher_education')\n",
    "plt.title('Higher Education among Individuals with Salary >50K')\n",
    "plt.xlabel('Has Higher Education')\n",
    "plt.ylabel('Count')\n",
    "plt.show()"
   ]
  },
  {
   "cell_type": "code",
   "execution_count": 16,
   "id": "af40c7c3-3484-49f8-a32d-c6c37675e2a4",
   "metadata": {},
   "outputs": [
    {
     "name": "stdout",
     "output_type": "stream",
     "text": [
      "Contingency Table:\n"
     ]
    },
    {
     "data": {
      "text/html": [
       "<table border=\"1\" class=\"dataframe\">\n",
       "  <thead>\n",
       "    <tr style=\"text-align: right;\">\n",
       "      <th>has_higher_education</th>\n",
       "      <th>False</th>\n",
       "      <th>True</th>\n",
       "    </tr>\n",
       "    <tr>\n",
       "      <th>salary</th>\n",
       "      <th></th>\n",
       "      <th></th>\n",
       "    </tr>\n",
       "  </thead>\n",
       "  <tbody>\n",
       "    <tr>\n",
       "      <th>&lt;=50K</th>\n",
       "      <td>18739</td>\n",
       "      <td>5981</td>\n",
       "    </tr>\n",
       "    <tr>\n",
       "      <th>&gt;50K</th>\n",
       "      <td>3306</td>\n",
       "      <td>4535</td>\n",
       "    </tr>\n",
       "  </tbody>\n",
       "</table>"
      ],
      "text/plain": [
       "<IPython.core.display.HTML object>"
      ]
     },
     "metadata": {},
     "output_type": "display_data"
    },
    {
     "name": "stdout",
     "output_type": "stream",
     "text": [
      "\n",
      "Expected Values:\n"
     ]
    },
    {
     "data": {
      "text/html": [
       "<table border=\"1\" class=\"dataframe\">\n",
       "  <thead>\n",
       "    <tr style=\"text-align: right;\">\n",
       "      <th>has_higher_education</th>\n",
       "      <th>False</th>\n",
       "      <th>True</th>\n",
       "    </tr>\n",
       "    <tr>\n",
       "      <th>salary</th>\n",
       "      <th></th>\n",
       "      <th></th>\n",
       "    </tr>\n",
       "  </thead>\n",
       "  <tbody>\n",
       "    <tr>\n",
       "      <th>&lt;=50K</th>\n",
       "      <td>16736.353306</td>\n",
       "      <td>7983.646694</td>\n",
       "    </tr>\n",
       "    <tr>\n",
       "      <th>&gt;50K</th>\n",
       "      <td>5308.646694</td>\n",
       "      <td>2532.353306</td>\n",
       "    </tr>\n",
       "  </tbody>\n",
       "</table>"
      ],
      "text/plain": [
       "<IPython.core.display.HTML object>"
      ]
     },
     "metadata": {},
     "output_type": "display_data"
    },
    {
     "name": "stdout",
     "output_type": "stream",
     "text": [
      "\n",
      "Reject null hypothesis, p-val=0.0000 < 0.05: There is a significant difference in the presence of higher education between different income levels.\n"
     ]
    }
   ],
   "source": [
    "from scipy.stats import chi2_contingency\n",
    "\n",
    "# List of education levels considered as higher education\n",
    "higher_education = ['Bachelors', 'Prof-school', 'Assoc-acdm', 'Assoc-voc', 'Masters', 'Doctorate']\n",
    "\n",
    "# Create a column to check for the presence of higher education\n",
    "df['has_higher_education'] = df['education'].isin(higher_education)\n",
    "\n",
    "# Create contingency table for income and presence of higher education\n",
    "contingency_table = pd.crosstab(df['salary'].apply(lambda x: '>50K' if x == '>50K' else '<=50K'), df['has_higher_education'])\n",
    "\n",
    "# Perform chi-square test of independence\n",
    "chi2, p, dof, expected = chi2_contingency(contingency_table)\n",
    "\n",
    "# Create DataFrame with expected values\n",
    "expected_df = pd.DataFrame(expected, index=contingency_table.index, columns=contingency_table.columns)\n",
    "\n",
    "# Print contingency table and expected values\n",
    "print(\"Contingency Table:\")\n",
    "display(HTML(contingency_table.to_html()))\n",
    "print(\"\\nExpected Values:\")\n",
    "display(HTML(expected_df.to_html()))\n",
    "\n",
    "# Check hypothesis at significance level of 0.05\n",
    "alpha = 0.05\n",
    "if p < alpha:\n",
    "    print(f\"\\nReject null hypothesis, p-val={p:.4f} < {alpha}: There is a significant difference in the presence of higher education between different income levels.\")\n",
    "else:\n",
    "    print(f\"\\nFail to reject null hypothesis, p-val={p:.4f} > {alpha}: There is no significant difference in the presence of higher education between different income levels.\")\n"
   ]
  },
  {
   "cell_type": "markdown",
   "id": "15656866-d21d-4e2b-b571-baad8950ae1d",
   "metadata": {},
   "source": [
    "# 7. Порахуйте статистику віку для кожної раси (ознака race) і кожної статі. Використайте groupby и describe. Знайдіть таким сином максимальний вік чоловіків раси Amer-Indian-Eskimo"
   ]
  },
  {
   "cell_type": "code",
   "execution_count": 17,
   "id": "be91d13a-b1d2-44a4-a174-bf115d39e1eb",
   "metadata": {},
   "outputs": [
    {
     "name": "stdout",
     "output_type": "stream",
     "text": [
      "Age statistics for each race and sex:\n"
     ]
    },
    {
     "data": {
      "text/html": [
       "<table border=\"1\" class=\"dataframe\">\n",
       "  <thead>\n",
       "    <tr style=\"text-align: right;\">\n",
       "      <th></th>\n",
       "      <th></th>\n",
       "      <th>count</th>\n",
       "      <th>mean</th>\n",
       "      <th>std</th>\n",
       "      <th>min</th>\n",
       "      <th>25%</th>\n",
       "      <th>50%</th>\n",
       "      <th>75%</th>\n",
       "      <th>max</th>\n",
       "    </tr>\n",
       "    <tr>\n",
       "      <th>race</th>\n",
       "      <th>sex</th>\n",
       "      <th></th>\n",
       "      <th></th>\n",
       "      <th></th>\n",
       "      <th></th>\n",
       "      <th></th>\n",
       "      <th></th>\n",
       "      <th></th>\n",
       "      <th></th>\n",
       "    </tr>\n",
       "  </thead>\n",
       "  <tbody>\n",
       "    <tr>\n",
       "      <th rowspan=\"2\" valign=\"top\">Amer-Indian-Eskimo</th>\n",
       "      <th>Female</th>\n",
       "      <td>119.0</td>\n",
       "      <td>37.117647</td>\n",
       "      <td>13.114991</td>\n",
       "      <td>17.0</td>\n",
       "      <td>27.0</td>\n",
       "      <td>36.0</td>\n",
       "      <td>46.00</td>\n",
       "      <td>80.0</td>\n",
       "    </tr>\n",
       "    <tr>\n",
       "      <th>Male</th>\n",
       "      <td>192.0</td>\n",
       "      <td>37.208333</td>\n",
       "      <td>12.049563</td>\n",
       "      <td>17.0</td>\n",
       "      <td>28.0</td>\n",
       "      <td>35.0</td>\n",
       "      <td>45.00</td>\n",
       "      <td>82.0</td>\n",
       "    </tr>\n",
       "    <tr>\n",
       "      <th rowspan=\"2\" valign=\"top\">Asian-Pac-Islander</th>\n",
       "      <th>Female</th>\n",
       "      <td>346.0</td>\n",
       "      <td>35.089595</td>\n",
       "      <td>12.300845</td>\n",
       "      <td>17.0</td>\n",
       "      <td>25.0</td>\n",
       "      <td>33.0</td>\n",
       "      <td>43.75</td>\n",
       "      <td>75.0</td>\n",
       "    </tr>\n",
       "    <tr>\n",
       "      <th>Male</th>\n",
       "      <td>693.0</td>\n",
       "      <td>39.073593</td>\n",
       "      <td>12.883944</td>\n",
       "      <td>18.0</td>\n",
       "      <td>29.0</td>\n",
       "      <td>37.0</td>\n",
       "      <td>46.00</td>\n",
       "      <td>90.0</td>\n",
       "    </tr>\n",
       "    <tr>\n",
       "      <th rowspan=\"2\" valign=\"top\">Black</th>\n",
       "      <th>Female</th>\n",
       "      <td>1555.0</td>\n",
       "      <td>37.854019</td>\n",
       "      <td>12.637197</td>\n",
       "      <td>17.0</td>\n",
       "      <td>28.0</td>\n",
       "      <td>37.0</td>\n",
       "      <td>46.00</td>\n",
       "      <td>90.0</td>\n",
       "    </tr>\n",
       "    <tr>\n",
       "      <th>Male</th>\n",
       "      <td>1569.0</td>\n",
       "      <td>37.682600</td>\n",
       "      <td>12.882612</td>\n",
       "      <td>17.0</td>\n",
       "      <td>27.0</td>\n",
       "      <td>36.0</td>\n",
       "      <td>46.00</td>\n",
       "      <td>90.0</td>\n",
       "    </tr>\n",
       "    <tr>\n",
       "      <th rowspan=\"2\" valign=\"top\">Other</th>\n",
       "      <th>Female</th>\n",
       "      <td>109.0</td>\n",
       "      <td>31.678899</td>\n",
       "      <td>11.631599</td>\n",
       "      <td>17.0</td>\n",
       "      <td>23.0</td>\n",
       "      <td>29.0</td>\n",
       "      <td>39.00</td>\n",
       "      <td>74.0</td>\n",
       "    </tr>\n",
       "    <tr>\n",
       "      <th>Male</th>\n",
       "      <td>162.0</td>\n",
       "      <td>34.654321</td>\n",
       "      <td>11.355531</td>\n",
       "      <td>17.0</td>\n",
       "      <td>26.0</td>\n",
       "      <td>32.0</td>\n",
       "      <td>42.00</td>\n",
       "      <td>77.0</td>\n",
       "    </tr>\n",
       "    <tr>\n",
       "      <th rowspan=\"2\" valign=\"top\">White</th>\n",
       "      <th>Female</th>\n",
       "      <td>8642.0</td>\n",
       "      <td>36.811618</td>\n",
       "      <td>14.329093</td>\n",
       "      <td>17.0</td>\n",
       "      <td>25.0</td>\n",
       "      <td>35.0</td>\n",
       "      <td>46.00</td>\n",
       "      <td>90.0</td>\n",
       "    </tr>\n",
       "    <tr>\n",
       "      <th>Male</th>\n",
       "      <td>19174.0</td>\n",
       "      <td>39.652498</td>\n",
       "      <td>13.436029</td>\n",
       "      <td>17.0</td>\n",
       "      <td>29.0</td>\n",
       "      <td>38.0</td>\n",
       "      <td>49.00</td>\n",
       "      <td>90.0</td>\n",
       "    </tr>\n",
       "  </tbody>\n",
       "</table>"
      ],
      "text/plain": [
       "<IPython.core.display.HTML object>"
      ]
     },
     "metadata": {},
     "output_type": "display_data"
    },
    {
     "name": "stdout",
     "output_type": "stream",
     "text": [
      "\n",
      "Maximum age of males in the Amer-Indian-Eskimo race: 82\n"
     ]
    }
   ],
   "source": [
    "# Calculate age statistics grouped by race and sex\n",
    "age_stats = df.groupby(['race', 'sex'])['age'].describe()\n",
    "\n",
    "# Print age statistics for each race and sex\n",
    "print(\"Age statistics for each race and sex:\")\n",
    "display(\n",
    "    HTML(\n",
    "        age_stats.to_html()\n",
    "    )\n",
    ")\n",
    "\n",
    "# Find the maximum age of males in the Amer-Indian-Eskimo race\n",
    "max_age_amer_indian_male = df[(df['race'] == 'Amer-Indian-Eskimo') & (df['sex'] == 'Male')]['age'].max()\n",
    "print(\"\\nMaximum age of males in the Amer-Indian-Eskimo race:\", max_age_amer_indian_male)"
   ]
  },
  {
   "cell_type": "markdown",
   "id": "d01f6103-e852-4b13-837d-de60d3957d10",
   "metadata": {},
   "source": [
    "# 8. Серед кого більша доля багатіших (>50K): серед одружених чи не одружених чоловіків (ознака marital-status)? За одружених вважаємо тих, у кого marital-status починається із Married (Married-civ-spouse, Married-spouse-absent или Married-AF-spouse), всі інші - не одружені."
   ]
  },
  {
   "cell_type": "code",
   "execution_count": 18,
   "id": "039b572e-7d68-4d8c-abea-1b717ad2ae01",
   "metadata": {},
   "outputs": [
    {
     "data": {
      "text/html": [
       "<div>\n",
       "<style scoped>\n",
       "    .dataframe tbody tr th:only-of-type {\n",
       "        vertical-align: middle;\n",
       "    }\n",
       "\n",
       "    .dataframe tbody tr th {\n",
       "        vertical-align: top;\n",
       "    }\n",
       "\n",
       "    .dataframe thead th {\n",
       "        text-align: right;\n",
       "    }\n",
       "</style>\n",
       "<table border=\"1\" class=\"dataframe\">\n",
       "  <thead>\n",
       "    <tr style=\"text-align: right;\">\n",
       "      <th></th>\n",
       "      <th>count_married</th>\n",
       "      <th>count_not_married</th>\n",
       "    </tr>\n",
       "    <tr>\n",
       "      <th>salary</th>\n",
       "      <th></th>\n",
       "      <th></th>\n",
       "    </tr>\n",
       "  </thead>\n",
       "  <tbody>\n",
       "    <tr>\n",
       "      <th>&lt;=50K</th>\n",
       "      <td>7576</td>\n",
       "      <td>7552</td>\n",
       "    </tr>\n",
       "    <tr>\n",
       "      <th>&gt;50K</th>\n",
       "      <td>5965</td>\n",
       "      <td>697</td>\n",
       "    </tr>\n",
       "  </tbody>\n",
       "</table>\n",
       "</div>"
      ],
      "text/plain": [
       "        count_married  count_not_married\n",
       "salary                                  \n",
       "<=50K            7576               7552\n",
       ">50K             5965                697"
      ]
     },
     "execution_count": 18,
     "metadata": {},
     "output_type": "execute_result"
    }
   ],
   "source": [
    "# Define married statuses considered as married\n",
    "married_statuses = ['Married-civ-spouse', 'Married-spouse-absent', 'Married-AF-spouse']\n",
    "\n",
    "# Filter DataFrame for males who have marital status starting with 'Married'\n",
    "filtered_df_married = df[df['marital-status'].str.startswith(tuple(married_statuses)) & (df['sex'] == 'Male')]\n",
    "\n",
    "# Group by 'salary' and count the number of individuals in each salary category\n",
    "salary_counts_married = filtered_df_married.groupby(['salary']).size().to_frame(name='count_married')\n",
    "\n",
    "# Filter DataFrame for male individuals not in specified marital statuses\n",
    "filtered_df_not_married = df.query('(`marital-status` not in @married_statuses) and (`sex`==\"Male\")')\n",
    "\n",
    "# Group by 'salary' and calculate counts of each salary category\n",
    "salary_counts_not_married = filtered_df_not_married.groupby(['salary']).size().to_frame(name='count_not_married')\n",
    "\n",
    "# Combine the two DataFrames based on 'salary' categories\n",
    "combined_counts = pd.concat([salary_counts_married, salary_counts_not_married], axis=1)\n",
    "\n",
    "# Display the combined pivot table showing counts for both married and not married males\n",
    "combined_counts"
   ]
  },
  {
   "cell_type": "markdown",
   "id": "b1732f28-a93e-4d40-a915-1e8c1d9b84d2",
   "metadata": {},
   "source": [
    "# Observations:\n",
    "\n",
    "> Married Men:\n",
    ">> 7576: Earn <= 50K.  \n",
    ">> 5965: Earn > 50K.\n",
    "\n",
    "> Non-Married Men:\n",
    ">> 7552: Earn <= 50K.  \n",
    ">> 697: Earn > 50K.\n",
    "\n",
    "## Analysis:\n",
    "\n",
    "In the <= 50K salary category:\n",
    "* The number of married and non-married men is almost equal (7576 vs 7552).\n",
    "\n",
    "In the > 50K salary category:\n",
    "* There are more married men (5965) compared to non-married men (697).\n",
    "\n",
    "<p style='color:red'> It cannot be said that women rape men to earn more. ))) </p>"
   ]
  },
  {
   "cell_type": "markdown",
   "id": "20b9eeaf-9095-47fa-b944-4958d4d60ab7",
   "metadata": {},
   "source": [
    "# 9. Яку максимальну кількість годин в тиждень працює людина (ознака hours-per-week)? Скільки людей працюють таку кількість годин і який відсоток серед них багатих?"
   ]
  },
  {
   "cell_type": "code",
   "execution_count": 19,
   "id": "a534ae7e-f421-49f8-838c-2bb46fa7b3d4",
   "metadata": {},
   "outputs": [
    {
     "name": "stdout",
     "output_type": "stream",
     "text": [
      "Maximum number of hours worked per week: 99\n",
      "Number of people working 99 hours per week: 85\n",
      "Percentage of rich individuals among these people: 29.41%\n"
     ]
    }
   ],
   "source": [
    "# Find the maximum number of hours worked per week\n",
    "max_hours_per_week = df['hours-per-week'].max()\n",
    "\n",
    "# Count the number of people who work the maximum number of hours per week\n",
    "people_with_max_hours = df[df['hours-per-week'] == max_hours_per_week].shape[0]\n",
    "\n",
    "# Count the number of rich individuals (>50K) among those who work the maximum number of hours\n",
    "rich_count = df[(df['hours-per-week'] == max_hours_per_week) & (df['salary'] == '>50K')].shape[0]\n",
    "\n",
    "# Calculate the percentage of rich individuals among those who work the maximum number of hours\n",
    "rich_percentage = (rich_count / people_with_max_hours) * 100\n",
    "\n",
    "# Display the results\n",
    "print(f\"Maximum number of hours worked per week: {max_hours_per_week}\")\n",
    "print(f\"Number of people working {max_hours_per_week} hours per week: {people_with_max_hours}\")\n",
    "print(f\"Percentage of rich individuals among these people: {rich_percentage:.2f}%\")\n"
   ]
  },
  {
   "cell_type": "markdown",
   "id": "dcc177d3-7b05-46b3-bc6f-47d5ee8d7ba6",
   "metadata": {},
   "source": [
    "# 10. Порахуйте середню тривалість роботи на тиждень (hours-per-week) серед багатих і бідних (salary) для кожної країни (native-country)."
   ]
  },
  {
   "cell_type": "code",
   "execution_count": 20,
   "id": "abc2a51d-1f40-43a4-aa87-93c54c251600",
   "metadata": {},
   "outputs": [
    {
     "data": {
      "text/html": [
       "<div>\n",
       "<style scoped>\n",
       "    .dataframe tbody tr th:only-of-type {\n",
       "        vertical-align: middle;\n",
       "    }\n",
       "\n",
       "    .dataframe tbody tr th {\n",
       "        vertical-align: top;\n",
       "    }\n",
       "\n",
       "    .dataframe thead th {\n",
       "        text-align: right;\n",
       "    }\n",
       "</style>\n",
       "<table border=\"1\" class=\"dataframe\">\n",
       "  <thead>\n",
       "    <tr style=\"text-align: right;\">\n",
       "      <th>salary</th>\n",
       "      <th>&lt;=50K</th>\n",
       "      <th>&gt;50K</th>\n",
       "    </tr>\n",
       "    <tr>\n",
       "      <th>native-country</th>\n",
       "      <th></th>\n",
       "      <th></th>\n",
       "    </tr>\n",
       "  </thead>\n",
       "  <tbody>\n",
       "    <tr>\n",
       "      <th>?</th>\n",
       "      <td>40.164760</td>\n",
       "      <td>45.547945</td>\n",
       "    </tr>\n",
       "    <tr>\n",
       "      <th>Cambodia</th>\n",
       "      <td>41.416667</td>\n",
       "      <td>40.000000</td>\n",
       "    </tr>\n",
       "    <tr>\n",
       "      <th>Canada</th>\n",
       "      <td>37.914634</td>\n",
       "      <td>45.641026</td>\n",
       "    </tr>\n",
       "    <tr>\n",
       "      <th>China</th>\n",
       "      <td>37.381818</td>\n",
       "      <td>38.900000</td>\n",
       "    </tr>\n",
       "    <tr>\n",
       "      <th>Columbia</th>\n",
       "      <td>38.684211</td>\n",
       "      <td>50.000000</td>\n",
       "    </tr>\n",
       "    <tr>\n",
       "      <th>Cuba</th>\n",
       "      <td>37.985714</td>\n",
       "      <td>42.440000</td>\n",
       "    </tr>\n",
       "    <tr>\n",
       "      <th>Dominican-Republic</th>\n",
       "      <td>42.338235</td>\n",
       "      <td>47.000000</td>\n",
       "    </tr>\n",
       "    <tr>\n",
       "      <th>Ecuador</th>\n",
       "      <td>38.041667</td>\n",
       "      <td>48.750000</td>\n",
       "    </tr>\n",
       "    <tr>\n",
       "      <th>El-Salvador</th>\n",
       "      <td>36.030928</td>\n",
       "      <td>45.000000</td>\n",
       "    </tr>\n",
       "    <tr>\n",
       "      <th>England</th>\n",
       "      <td>40.483333</td>\n",
       "      <td>44.533333</td>\n",
       "    </tr>\n",
       "    <tr>\n",
       "      <th>France</th>\n",
       "      <td>41.058824</td>\n",
       "      <td>50.750000</td>\n",
       "    </tr>\n",
       "    <tr>\n",
       "      <th>Germany</th>\n",
       "      <td>39.139785</td>\n",
       "      <td>44.977273</td>\n",
       "    </tr>\n",
       "    <tr>\n",
       "      <th>Greece</th>\n",
       "      <td>41.809524</td>\n",
       "      <td>50.625000</td>\n",
       "    </tr>\n",
       "    <tr>\n",
       "      <th>Guatemala</th>\n",
       "      <td>39.360656</td>\n",
       "      <td>36.666667</td>\n",
       "    </tr>\n",
       "    <tr>\n",
       "      <th>Haiti</th>\n",
       "      <td>36.325000</td>\n",
       "      <td>42.750000</td>\n",
       "    </tr>\n",
       "    <tr>\n",
       "      <th>Holand-Netherlands</th>\n",
       "      <td>40.000000</td>\n",
       "      <td>NaN</td>\n",
       "    </tr>\n",
       "    <tr>\n",
       "      <th>Honduras</th>\n",
       "      <td>34.333333</td>\n",
       "      <td>60.000000</td>\n",
       "    </tr>\n",
       "    <tr>\n",
       "      <th>Hong</th>\n",
       "      <td>39.142857</td>\n",
       "      <td>45.000000</td>\n",
       "    </tr>\n",
       "    <tr>\n",
       "      <th>Hungary</th>\n",
       "      <td>31.300000</td>\n",
       "      <td>50.000000</td>\n",
       "    </tr>\n",
       "    <tr>\n",
       "      <th>India</th>\n",
       "      <td>38.233333</td>\n",
       "      <td>46.475000</td>\n",
       "    </tr>\n",
       "    <tr>\n",
       "      <th>Iran</th>\n",
       "      <td>41.440000</td>\n",
       "      <td>47.500000</td>\n",
       "    </tr>\n",
       "    <tr>\n",
       "      <th>Ireland</th>\n",
       "      <td>40.947368</td>\n",
       "      <td>48.000000</td>\n",
       "    </tr>\n",
       "    <tr>\n",
       "      <th>Italy</th>\n",
       "      <td>39.625000</td>\n",
       "      <td>45.400000</td>\n",
       "    </tr>\n",
       "    <tr>\n",
       "      <th>Jamaica</th>\n",
       "      <td>38.239437</td>\n",
       "      <td>41.100000</td>\n",
       "    </tr>\n",
       "    <tr>\n",
       "      <th>Japan</th>\n",
       "      <td>41.000000</td>\n",
       "      <td>47.958333</td>\n",
       "    </tr>\n",
       "    <tr>\n",
       "      <th>Laos</th>\n",
       "      <td>40.375000</td>\n",
       "      <td>40.000000</td>\n",
       "    </tr>\n",
       "    <tr>\n",
       "      <th>Mexico</th>\n",
       "      <td>40.003279</td>\n",
       "      <td>46.575758</td>\n",
       "    </tr>\n",
       "    <tr>\n",
       "      <th>Nicaragua</th>\n",
       "      <td>36.093750</td>\n",
       "      <td>37.500000</td>\n",
       "    </tr>\n",
       "    <tr>\n",
       "      <th>Outlying-US(Guam-USVI-etc)</th>\n",
       "      <td>41.857143</td>\n",
       "      <td>NaN</td>\n",
       "    </tr>\n",
       "    <tr>\n",
       "      <th>Peru</th>\n",
       "      <td>35.068966</td>\n",
       "      <td>40.000000</td>\n",
       "    </tr>\n",
       "    <tr>\n",
       "      <th>Philippines</th>\n",
       "      <td>38.065693</td>\n",
       "      <td>43.032787</td>\n",
       "    </tr>\n",
       "    <tr>\n",
       "      <th>Poland</th>\n",
       "      <td>38.166667</td>\n",
       "      <td>39.000000</td>\n",
       "    </tr>\n",
       "    <tr>\n",
       "      <th>Portugal</th>\n",
       "      <td>41.939394</td>\n",
       "      <td>41.500000</td>\n",
       "    </tr>\n",
       "    <tr>\n",
       "      <th>Puerto-Rico</th>\n",
       "      <td>38.470588</td>\n",
       "      <td>39.416667</td>\n",
       "    </tr>\n",
       "    <tr>\n",
       "      <th>Scotland</th>\n",
       "      <td>39.444444</td>\n",
       "      <td>46.666667</td>\n",
       "    </tr>\n",
       "    <tr>\n",
       "      <th>South</th>\n",
       "      <td>40.156250</td>\n",
       "      <td>51.437500</td>\n",
       "    </tr>\n",
       "    <tr>\n",
       "      <th>Taiwan</th>\n",
       "      <td>33.774194</td>\n",
       "      <td>46.800000</td>\n",
       "    </tr>\n",
       "    <tr>\n",
       "      <th>Thailand</th>\n",
       "      <td>42.866667</td>\n",
       "      <td>58.333333</td>\n",
       "    </tr>\n",
       "    <tr>\n",
       "      <th>Trinadad&amp;Tobago</th>\n",
       "      <td>37.058824</td>\n",
       "      <td>40.000000</td>\n",
       "    </tr>\n",
       "    <tr>\n",
       "      <th>United-States</th>\n",
       "      <td>38.799127</td>\n",
       "      <td>45.505369</td>\n",
       "    </tr>\n",
       "    <tr>\n",
       "      <th>Vietnam</th>\n",
       "      <td>37.193548</td>\n",
       "      <td>39.200000</td>\n",
       "    </tr>\n",
       "    <tr>\n",
       "      <th>Yugoslavia</th>\n",
       "      <td>41.600000</td>\n",
       "      <td>49.500000</td>\n",
       "    </tr>\n",
       "  </tbody>\n",
       "</table>\n",
       "</div>"
      ],
      "text/plain": [
       "salary                          <=50K       >50K\n",
       "native-country                                  \n",
       "?                           40.164760  45.547945\n",
       "Cambodia                    41.416667  40.000000\n",
       "Canada                      37.914634  45.641026\n",
       "China                       37.381818  38.900000\n",
       "Columbia                    38.684211  50.000000\n",
       "Cuba                        37.985714  42.440000\n",
       "Dominican-Republic          42.338235  47.000000\n",
       "Ecuador                     38.041667  48.750000\n",
       "El-Salvador                 36.030928  45.000000\n",
       "England                     40.483333  44.533333\n",
       "France                      41.058824  50.750000\n",
       "Germany                     39.139785  44.977273\n",
       "Greece                      41.809524  50.625000\n",
       "Guatemala                   39.360656  36.666667\n",
       "Haiti                       36.325000  42.750000\n",
       "Holand-Netherlands          40.000000        NaN\n",
       "Honduras                    34.333333  60.000000\n",
       "Hong                        39.142857  45.000000\n",
       "Hungary                     31.300000  50.000000\n",
       "India                       38.233333  46.475000\n",
       "Iran                        41.440000  47.500000\n",
       "Ireland                     40.947368  48.000000\n",
       "Italy                       39.625000  45.400000\n",
       "Jamaica                     38.239437  41.100000\n",
       "Japan                       41.000000  47.958333\n",
       "Laos                        40.375000  40.000000\n",
       "Mexico                      40.003279  46.575758\n",
       "Nicaragua                   36.093750  37.500000\n",
       "Outlying-US(Guam-USVI-etc)  41.857143        NaN\n",
       "Peru                        35.068966  40.000000\n",
       "Philippines                 38.065693  43.032787\n",
       "Poland                      38.166667  39.000000\n",
       "Portugal                    41.939394  41.500000\n",
       "Puerto-Rico                 38.470588  39.416667\n",
       "Scotland                    39.444444  46.666667\n",
       "South                       40.156250  51.437500\n",
       "Taiwan                      33.774194  46.800000\n",
       "Thailand                    42.866667  58.333333\n",
       "Trinadad&Tobago             37.058824  40.000000\n",
       "United-States               38.799127  45.505369\n",
       "Vietnam                     37.193548  39.200000\n",
       "Yugoslavia                  41.600000  49.500000"
      ]
     },
     "metadata": {},
     "output_type": "display_data"
    }
   ],
   "source": [
    "# Group by 'native-country' and 'salary', then calculate the mean hours per week\n",
    "average_hours_per_country_salary = df.groupby(['native-country', 'salary'])['hours-per-week'].mean().unstack()\n",
    "\n",
    "# Display the resulting DataFrame\n",
    "display(average_hours_per_country_salary)"
   ]
  }
 ],
 "metadata": {
  "kernelspec": {
   "display_name": "Python 3 (ipykernel)",
   "language": "python",
   "name": "python3"
  },
  "language_info": {
   "codemirror_mode": {
    "name": "ipython",
    "version": 3
   },
   "file_extension": ".py",
   "mimetype": "text/x-python",
   "name": "python",
   "nbconvert_exporter": "python",
   "pygments_lexer": "ipython3",
   "version": "3.12.0"
  }
 },
 "nbformat": 4,
 "nbformat_minor": 5
}
